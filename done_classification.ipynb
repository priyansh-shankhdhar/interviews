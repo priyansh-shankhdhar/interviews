{
  "nbformat": 4,
  "nbformat_minor": 0,
  "metadata": {
    "colab": {
      "name": "done classification.ipynb",
      "provenance": [],
      "collapsed_sections": [],
      "toc_visible": true,
      "authorship_tag": "ABX9TyMJhPM+fOJTv6zPdRR3l/MS",
      "include_colab_link": true
    },
    "kernelspec": {
      "name": "python3",
      "display_name": "Python 3"
    }
  },
  "cells": [
    {
      "cell_type": "markdown",
      "metadata": {
        "id": "view-in-github",
        "colab_type": "text"
      },
      "source": [
        "<a href=\"https://colab.research.google.com/github/priyansh-shankhdhar/interviews/blob/master/done_classification.ipynb\" target=\"_parent\"><img src=\"https://colab.research.google.com/assets/colab-badge.svg\" alt=\"Open In Colab\"/></a>"
      ]
    },
    {
      "cell_type": "markdown",
      "metadata": {
        "id": "2Q5h5xrwefmr",
        "colab_type": "text"
      },
      "source": [
        "# **Here we include all the necessary libraries**"
      ]
    },
    {
      "cell_type": "code",
      "metadata": {
        "id": "mmgia4Omimpi",
        "colab_type": "code",
        "colab": {
          "base_uri": "https://localhost:8080/",
          "height": 135
        },
        "outputId": "d1a41892-178f-4b2c-ca41-223fb7800151"
      },
      "source": [
        "import numpy as np\n",
        "import pandas as pd\n",
        "import seaborn as sns\n",
        "import matplotlib.pyplot as plt\n",
        "import regex as re\n",
        "from google.colab import files\n",
        "import os\n",
        "import zipfile\n",
        "import nltk\n",
        "from nltk.corpus import stopwords\n",
        "nltk.download('stopwords')\n",
        "from gensim.models import Word2Vec\n",
        "nltk.download('punkt')\n",
        "from sklearn.cluster import KMeans\n",
        "from sklearn.preprocessing import MinMaxScaler"
      ],
      "execution_count": 1,
      "outputs": [
        {
          "output_type": "stream",
          "text": [
            "/usr/local/lib/python3.6/dist-packages/statsmodels/tools/_testing.py:19: FutureWarning: pandas.util.testing is deprecated. Use the functions in the public API at pandas.testing instead.\n",
            "  import pandas.util.testing as tm\n"
          ],
          "name": "stderr"
        },
        {
          "output_type": "stream",
          "text": [
            "[nltk_data] Downloading package stopwords to /root/nltk_data...\n",
            "[nltk_data]   Unzipping corpora/stopwords.zip.\n",
            "[nltk_data] Downloading package punkt to /root/nltk_data...\n",
            "[nltk_data]   Unzipping tokenizers/punkt.zip.\n"
          ],
          "name": "stdout"
        }
      ]
    },
    {
      "cell_type": "markdown",
      "metadata": {
        "id": "GgQxTdD9eqyg",
        "colab_type": "text"
      },
      "source": [
        " this is for uploading the files "
      ]
    },
    {
      "cell_type": "code",
      "metadata": {
        "id": "pqba9Q_5iX0T",
        "colab_type": "code",
        "colab": {
          "resources": {
            "http://localhost:8080/nbextensions/google.colab/files.js": {
              "data": "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",
              "ok": true,
              "headers": [
                [
                  "content-type",
                  "application/javascript"
                ]
              ],
              "status": 200,
              "status_text": ""
            }
          },
          "base_uri": "https://localhost:8080/",
          "height": 168
        },
        "outputId": "4ebccaaa-63d9-4ef8-8399-1aaf69a091c8"
      },
      "source": [
        "data_to_load = files.upload()"
      ],
      "execution_count": 2,
      "outputs": [
        {
          "output_type": "display_data",
          "data": {
            "text/html": [
              "\n",
              "     <input type=\"file\" id=\"files-a3d04be3-cc38-4e50-bd5e-97eedd68b2b0\" name=\"files[]\" multiple disabled\n",
              "        style=\"border:none\" />\n",
              "     <output id=\"result-a3d04be3-cc38-4e50-bd5e-97eedd68b2b0\">\n",
              "      Upload widget is only available when the cell has been executed in the\n",
              "      current browser session. Please rerun this cell to enable.\n",
              "      </output>\n",
              "      <script src=\"/nbextensions/google.colab/files.js\"></script> "
            ],
            "text/plain": [
              "<IPython.core.display.HTML object>"
            ]
          },
          "metadata": {
            "tags": []
          }
        },
        {
          "output_type": "stream",
          "text": [
            "Saving data.zip to data.zip\n",
            "Saving city_lis.csv to city_lis.csv\n",
            "Saving user.csv to user.csv\n",
            "Saving job.csv to job.csv\n"
          ],
          "name": "stdout"
        }
      ]
    },
    {
      "cell_type": "markdown",
      "metadata": {
        "id": "jt7PGIJBextD",
        "colab_type": "text"
      },
      "source": [
        "This block has a function unzip(path,directory_name) what this does is;  it tries to unzip the file in directory_name directory."
      ]
    },
    {
      "cell_type": "code",
      "metadata": {
        "id": "R048OxEriilQ",
        "colab_type": "code",
        "colab": {}
      },
      "source": [
        "def unzip(path, dir_name):\n",
        "  with zipfile.ZipFile(path, 'r') as zip_ref:\n",
        "      os.mkdir(dir_name)\n",
        "      j=%pwd\n",
        "      zip_ref.extractall(os.path.join(j,dir_name))\n",
        "\n",
        "unzip('/content/data.zip','more')\n"
      ],
      "execution_count": 3,
      "outputs": []
    },
    {
      "cell_type": "markdown",
      "metadata": {
        "id": "-vebIbDVfLF7",
        "colab_type": "text"
      },
      "source": [
        "reading the jobs.csv and user.csv file"
      ]
    },
    {
      "cell_type": "code",
      "metadata": {
        "id": "IUgfN7zxjp8d",
        "colab_type": "code",
        "colab": {}
      },
      "source": [
        "df=pd.read_csv('/content/job.csv')\n",
        "user=pd.read_csv('/content/user.csv')"
      ],
      "execution_count": 4,
      "outputs": []
    },
    {
      "cell_type": "code",
      "metadata": {
        "id": "ZzsfpVEZmfe3",
        "colab_type": "code",
        "colab": {
          "base_uri": "https://localhost:8080/",
          "height": 557
        },
        "outputId": "9c1809d9-6b0d-45dd-b820-c59042972429"
      },
      "source": [
        "#checking the null values in User.csv\n",
        "is_null=user.isnull().sum()\n",
        "is_null"
      ],
      "execution_count": 5,
      "outputs": [
        {
          "output_type": "execute_result",
          "data": {
            "text/plain": [
              "email                  20\n",
              "mobile_number          30\n",
              "pwd                    83\n",
              "auth                    0\n",
              "username                2\n",
              "user_id                 0\n",
              "image_url             104\n",
              "fullname               21\n",
              "field_of_work          32\n",
              "type_of_customer       32\n",
              "timestamp              32\n",
              "Company                96\n",
              "work_place             96\n",
              "gmail image url        71\n",
              "searchkey              50\n",
              "board                  96\n",
              "city                   90\n",
              "working days           50\n",
              "age                    90\n",
              "gender                 88\n",
              "interested field       52\n",
              "rate                   90\n",
              "active for hiring      50\n",
              "state                  90\n",
              "location               50\n",
              "district               94\n",
              "language               50\n",
              "qualification          90\n",
              "year_of_experience     50\n",
              "dob                   114\n",
              "edited timestamp       84\n",
              "profile_url           116\n",
              "dtype: int64"
            ]
          },
          "metadata": {
            "tags": []
          },
          "execution_count": 5
        }
      ]
    },
    {
      "cell_type": "markdown",
      "metadata": {
        "id": "zWrSqFVXhb5B",
        "colab_type": "text"
      },
      "source": [
        "# Here we plot the graph of null values to given values, where the colur purple represents values present and yellow represent values absent."
      ]
    },
    {
      "cell_type": "code",
      "metadata": {
        "id": "SRj5doHh6Zhc",
        "colab_type": "code",
        "colab": {
          "base_uri": "https://localhost:8080/",
          "height": 588
        },
        "outputId": "bd867599-6b36-4ae9-bc32-8f83b2b5c851"
      },
      "source": [
        "#plotting for user.csv\n",
        "fig, ax = plt.subplots(figsize=(8,8)) \n",
        "sns.heatmap(user.isnull(),yticklabels=False,cmap='viridis',cbar=False,annot=True, linewidths=.5, ax=ax)"
      ],
      "execution_count": 6,
      "outputs": [
        {
          "output_type": "execute_result",
          "data": {
            "text/plain": [
              "<matplotlib.axes._subplots.AxesSubplot at 0x7f13b5c8ce80>"
            ]
          },
          "metadata": {
            "tags": []
          },
          "execution_count": 6
        },
        {
          "output_type": "display_data",
          "data": {
            "image/png": "[encoded data removed]",
            "text/plain": [
              "<Figure size 576x576 with 1 Axes>"
            ]
          },
          "metadata": {
            "tags": [],
            "needs_background": "light"
          }
        }
      ]
    },
    {
      "cell_type": "markdown",
      "metadata": {
        "id": "nSUhJ9q_hucA",
        "colab_type": "text"
      },
      "source": [
        "# we plot similarly for jobs.csv"
      ]
    },
    {
      "cell_type": "code",
      "metadata": {
        "id": "_2oGEdT36-IP",
        "colab_type": "code",
        "colab": {
          "base_uri": "https://localhost:8080/",
          "height": 427
        },
        "outputId": "d7e5e0a1-557b-4f0f-a4fe-a84e25e169b9"
      },
      "source": [
        "#plottinf for jobs.csv\n",
        "fig, ax = plt.subplots(figsize=(5,5)) \n",
        "sns.heatmap(df.isnull(),yticklabels=False,cmap='viridis',cbar=False,annot=True, linewidths=.5, ax=ax)"
      ],
      "execution_count": 7,
      "outputs": [
        {
          "output_type": "execute_result",
          "data": {
            "text/plain": [
              "<matplotlib.axes._subplots.AxesSubplot at 0x7f13b06cbe80>"
            ]
          },
          "metadata": {
            "tags": []
          },
          "execution_count": 7
        },
        {
          "output_type": "display_data",
          "data": {
            "image/png": "[encoded data removed]",
            "text/plain": [
              "<Figure size 360x360 with 1 Axes>"
            ]
          },
          "metadata": {
            "tags": [],
            "needs_background": "light"
          }
        }
      ]
    },
    {
      "cell_type": "code",
      "metadata": {
        "id": "-sGpMhYno8hM",
        "colab_type": "code",
        "colab": {
          "base_uri": "https://localhost:8080/",
          "height": 148
        },
        "outputId": "e3b1444e-8947-4c00-b402-13a3094a5197"
      },
      "source": [
        "#checking the columns in user.csv\n",
        "user.columns"
      ],
      "execution_count": 8,
      "outputs": [
        {
          "output_type": "execute_result",
          "data": {
            "text/plain": [
              "Index(['email', 'mobile_number', 'pwd', 'auth', 'username', 'user_id',\n",
              "       'image_url', 'fullname', 'field_of_work', 'type_of_customer',\n",
              "       'timestamp', 'Company', 'work_place', 'gmail image url', 'searchkey',\n",
              "       'board', 'city', 'working days', 'age', 'gender', 'interested field',\n",
              "       'rate', 'active for hiring', 'state', 'location', 'district',\n",
              "       'language', 'qualification', 'year_of_experience', 'dob',\n",
              "       'edited timestamp', 'profile_url'],\n",
              "      dtype='object')"
            ]
          },
          "metadata": {
            "tags": []
          },
          "execution_count": 8
        }
      ]
    },
    {
      "cell_type": "markdown",
      "metadata": {
        "id": "FA8Kal-4iDLR",
        "colab_type": "text"
      },
      "source": [
        "# In this whole block i tried to clean the user.csv at first.\n",
        "\n",
        "\n",
        "1.   At first i removed all the ',' extra spaces and square brackets.\n",
        "2.   Then i removed all the useless columns whose 90% of data was filled with Nan values\n",
        "3.   then individually i cleaned all the rows w.r.t their data, for example in mobile no. if there is mobile no. we gave it 1 else 0.\n",
        "4.   And for dates i converted it into days and subtracting it with the maximum date.\n",
        "\n"
      ]
    },
    {
      "cell_type": "code",
      "metadata": {
        "id": "wxyKQ3ZyemEK",
        "colab_type": "code",
        "colab": {
          "base_uri": "https://localhost:8080/",
          "height": 410
        },
        "outputId": "6a7e032d-50e2-4b56-de79-83744e511867"
      },
      "source": [
        "user=pd.read_csv('/content/user.csv')\n",
        "\n",
        "#----------------------------------------------\n",
        "\n",
        "\n",
        "user=user.drop(['user_id','email','pwd','image_url','Company','work_place','dob','profile_url','gmail image url', 'searchkey','board'],axis=1)\n",
        "#################################################\n",
        "# removing extra spaces and columns\n",
        "for i in user.columns:\n",
        "  if type(user[i].loc[0])=='str':\n",
        "    user[i]=user[i].apply(lambda x: x.replace(',',' ').replace('  ',' ').strip('[').strip(']').lower())\n",
        "\n",
        "#################################################\n",
        "# keeping 1 if mobile no. is present and 0 if mobile no. is not present\n",
        "user.mobile_number=user.mobile_number.fillna(-9999)\n",
        "for i in range(len(user.mobile_number)):\n",
        "  if user.mobile_number[i] < 0:\n",
        "    user.mobile_number[i]=0.0\n",
        "  else:\n",
        "    user.mobile_number[i]=1.0\n",
        "\n",
        "########################################\n",
        "# if author is following its respective values is given (the value is after -> in the comment below)\n",
        "''' #Auth  #val_Count   -> #Value given\n",
        "    gmail       45      -> 5\n",
        "    email       35      -> 4\n",
        "    phone       20      -> 3\n",
        "    facebook    12      -> 2\n",
        "    mail         4      -> 1  '''\n",
        "user.auth=user.auth.fillna('None')\n",
        "x=user.auth.value_counts()\n",
        "idx=x.index\n",
        "d=[]\n",
        "for i in idx:\n",
        "  d.append(i)\n",
        "#print(d)\n",
        "for i in range(len(user.auth)):\n",
        "  if user.auth[i] is 'None':\n",
        "    user.auth[i]=0\n",
        "  else:\n",
        "    user.auth[i]=float(len(d)-int(d.index(user.auth[i])))\n",
        "\n",
        "##########################################\n",
        "# if there is a username then 1 else 0\n",
        "\n",
        "user.username.fillna(0.0)\n",
        "for i in range(len(user.username)):\n",
        "  if user.username[i] == 0.0:\n",
        "    pass\n",
        "    #print('passed')\n",
        "  else:\n",
        "    user.username[i] = 1.0\n",
        "\n",
        "###########################################\n",
        "#if fullname is given the 1 else 0\n",
        "user.fullname=user.fullname.fillna('no')\n",
        "for i in range(len(user.fullname)):\n",
        "  if user.fullname[i]=='no':\n",
        "    user.fullname[i]=0.0\n",
        "  else:\n",
        "    user.fullname[i]=1.0\n",
        "\n",
        "############################################\n",
        "# have to do something (still figuring out)\n",
        "user.field_of_work=user.field_of_work.fillna('na')\n",
        "user.field_of_work.value_counts()\n",
        "user.field_of_work=user.field_of_work.apply(lambda x: re.sub(\"'|[|]\",\"\",x).strip('[').strip(']') )\n",
        "\n",
        "###########################################\n",
        "\n",
        "user.type_of_customer=user.type_of_customer.fillna(0.0)\n",
        "#filled value coresponding to the below dictionary\n",
        "d={ 'get hire':1, 'hire': 1 , 'get hired':1 }\n",
        "user=user.replace({'type_of_customer': d})\n",
        "\n",
        "##########################################\n",
        "#filled the diffrence of firest date vs the other dates in terms of dates and converted it into float\n",
        "\n",
        "user.timestamp=user.timestamp.apply(lambda x: str(x).split(',')[0].strip('Timestamp(seconds='))\n",
        "user.timestamp=user.timestamp.apply( lambda x: 0  if x is '' else int(x) )\n",
        "user.timestamp=user.timestamp.apply( lambda x: int(user.timestamp.median()) if x is 0 else x )\n",
        "user.timestamp=user.timestamp.apply(lambda x: pd.Timestamp(x, unit='s') )\n",
        "user.timestamp=user.timestamp.apply(lambda x: abs(float(str(user.timestamp[0]-x).split('days')[0])))\n",
        "\n",
        "###############################################\n",
        "\n",
        "#filled the city with 0.0 if not given else 1.0\n",
        "\n",
        "user.city=user.city.fillna('')\n",
        "user.city=user.city.apply(lambda x: 0.0 if x is '' else 1.0 )\n",
        "\n",
        "#############################################\n",
        "# the value are set as the no. of days a person ha s filled like if MON,TUE,THU then there are 2 commas means three values\n",
        "user['working days']=user['working days'].fillna('')\n",
        "user['working days']=user['working days'].apply(lambda x: str(x).strip('[').strip(']').count(',') + 1 if x != '' else 0 )\n",
        "\n",
        "#############################################\n",
        "\n",
        "#for all the age values not given we fill them with the meadian age value\n",
        "\n",
        "user.age=user.age.fillna(user.age.median()) \n",
        "\n",
        "#############################################\n",
        "#filling us all the respective gender values with 0, 1 and -1\n",
        "\n",
        "user.gender=user.gender.fillna(-1)\n",
        "user.gender=user.gender.apply(lambda x: str(x).lower())\n",
        "di={'-1':0 ,'male':1, 'female':-1 }\n",
        "user=user.replace({'gender': di})\n"
      ],
      "execution_count": 9,
      "outputs": [
        {
          "output_type": "stream",
          "text": [
            "/usr/local/lib/python3.6/dist-packages/ipykernel_launcher.py:18: SettingWithCopyWarning: \n",
            "A value is trying to be set on a copy of a slice from a DataFrame\n",
            "\n",
            "See the caveats in the documentation: https://pandas.pydata.org/pandas-docs/stable/user_guide/indexing.html#returning-a-view-versus-a-copy\n",
            "/usr/local/lib/python3.6/dist-packages/ipykernel_launcher.py:20: SettingWithCopyWarning: \n",
            "A value is trying to be set on a copy of a slice from a DataFrame\n",
            "\n",
            "See the caveats in the documentation: https://pandas.pydata.org/pandas-docs/stable/user_guide/indexing.html#returning-a-view-versus-a-copy\n",
            "/usr/local/lib/python3.6/dist-packages/ipykernel_launcher.py:41: SettingWithCopyWarning: \n",
            "A value is trying to be set on a copy of a slice from a DataFrame\n",
            "\n",
            "See the caveats in the documentation: https://pandas.pydata.org/pandas-docs/stable/user_guide/indexing.html#returning-a-view-versus-a-copy\n",
            "/usr/local/lib/python3.6/dist-packages/ipykernel_launcher.py:52: SettingWithCopyWarning: \n",
            "A value is trying to be set on a copy of a slice from a DataFrame\n",
            "\n",
            "See the caveats in the documentation: https://pandas.pydata.org/pandas-docs/stable/user_guide/indexing.html#returning-a-view-versus-a-copy\n",
            "/usr/local/lib/python3.6/dist-packages/ipykernel_launcher.py:59: SettingWithCopyWarning: \n",
            "A value is trying to be set on a copy of a slice from a DataFrame\n",
            "\n",
            "See the caveats in the documentation: https://pandas.pydata.org/pandas-docs/stable/user_guide/indexing.html#returning-a-view-versus-a-copy\n",
            "/usr/local/lib/python3.6/dist-packages/ipykernel_launcher.py:61: SettingWithCopyWarning: \n",
            "A value is trying to be set on a copy of a slice from a DataFrame\n",
            "\n",
            "See the caveats in the documentation: https://pandas.pydata.org/pandas-docs/stable/user_guide/indexing.html#returning-a-view-versus-a-copy\n"
          ],
          "name": "stderr"
        }
      ]
    },
    {
      "cell_type": "code",
      "metadata": {
        "id": "l4Ka-TyukhYm",
        "colab_type": "code",
        "colab": {
          "base_uri": "https://localhost:8080/",
          "height": 517
        },
        "outputId": "3d63ef32-ecc4-4b17-b3f9-9563c7f4c15e"
      },
      "source": [
        "user"
      ],
      "execution_count": 10,
      "outputs": [
        {
          "output_type": "execute_result",
          "data": {
            "text/html": [
              "<div>\n",
              "<style scoped>\n",
              "    .dataframe tbody tr th:only-of-type {\n",
              "        vertical-align: middle;\n",
              "    }\n",
              "\n",
              "    .dataframe tbody tr th {\n",
              "        vertical-align: top;\n",
              "    }\n",
              "\n",
              "    .dataframe thead th {\n",
              "        text-align: right;\n",
              "    }\n",
              "</style>\n",
              "<table border=\"1\" class=\"dataframe\">\n",
              "  <thead>\n",
              "    <tr style=\"text-align: right;\">\n",
              "      <th></th>\n",
              "      <th>mobile_number</th>\n",
              "      <th>auth</th>\n",
              "      <th>username</th>\n",
              "      <th>fullname</th>\n",
              "      <th>field_of_work</th>\n",
              "      <th>type_of_customer</th>\n",
              "      <th>timestamp</th>\n",
              "      <th>city</th>\n",
              "      <th>working days</th>\n",
              "      <th>age</th>\n",
              "      <th>gender</th>\n",
              "      <th>interested field</th>\n",
              "      <th>rate</th>\n",
              "      <th>active for hiring</th>\n",
              "      <th>state</th>\n",
              "      <th>location</th>\n",
              "      <th>district</th>\n",
              "      <th>language</th>\n",
              "      <th>qualification</th>\n",
              "      <th>year_of_experience</th>\n",
              "      <th>edited timestamp</th>\n",
              "    </tr>\n",
              "  </thead>\n",
              "  <tbody>\n",
              "    <tr>\n",
              "      <th>0</th>\n",
              "      <td>0.0</td>\n",
              "      <td>4</td>\n",
              "      <td>1</td>\n",
              "      <td>0</td>\n",
              "      <td>na</td>\n",
              "      <td>0.0</td>\n",
              "      <td>0.0</td>\n",
              "      <td>0.0</td>\n",
              "      <td>0</td>\n",
              "      <td>28.0</td>\n",
              "      <td>0</td>\n",
              "      <td>NaN</td>\n",
              "      <td>NaN</td>\n",
              "      <td>NaN</td>\n",
              "      <td>NaN</td>\n",
              "      <td>NaN</td>\n",
              "      <td>NaN</td>\n",
              "      <td>NaN</td>\n",
              "      <td>NaN</td>\n",
              "      <td>NaN</td>\n",
              "      <td>NaN</td>\n",
              "    </tr>\n",
              "    <tr>\n",
              "      <th>1</th>\n",
              "      <td>1.0</td>\n",
              "      <td>1</td>\n",
              "      <td>1</td>\n",
              "      <td>1</td>\n",
              "      <td>Service</td>\n",
              "      <td>1.0</td>\n",
              "      <td>1.0</td>\n",
              "      <td>0.0</td>\n",
              "      <td>0</td>\n",
              "      <td>28.0</td>\n",
              "      <td>0</td>\n",
              "      <td>NaN</td>\n",
              "      <td>NaN</td>\n",
              "      <td>NaN</td>\n",
              "      <td>NaN</td>\n",
              "      <td>NaN</td>\n",
              "      <td>NaN</td>\n",
              "      <td>NaN</td>\n",
              "      <td>NaN</td>\n",
              "      <td>NaN</td>\n",
              "      <td>NaN</td>\n",
              "    </tr>\n",
              "    <tr>\n",
              "      <th>2</th>\n",
              "      <td>0.0</td>\n",
              "      <td>5</td>\n",
              "      <td>1</td>\n",
              "      <td>1</td>\n",
              "      <td>na</td>\n",
              "      <td>0.0</td>\n",
              "      <td>0.0</td>\n",
              "      <td>0.0</td>\n",
              "      <td>0</td>\n",
              "      <td>28.0</td>\n",
              "      <td>0</td>\n",
              "      <td>NaN</td>\n",
              "      <td>NaN</td>\n",
              "      <td>NaN</td>\n",
              "      <td>NaN</td>\n",
              "      <td>NaN</td>\n",
              "      <td>NaN</td>\n",
              "      <td>NaN</td>\n",
              "      <td>NaN</td>\n",
              "      <td>NaN</td>\n",
              "      <td>NaN</td>\n",
              "    </tr>\n",
              "    <tr>\n",
              "      <th>3</th>\n",
              "      <td>0.0</td>\n",
              "      <td>4</td>\n",
              "      <td>1</td>\n",
              "      <td>0</td>\n",
              "      <td>na</td>\n",
              "      <td>0.0</td>\n",
              "      <td>0.0</td>\n",
              "      <td>0.0</td>\n",
              "      <td>0</td>\n",
              "      <td>28.0</td>\n",
              "      <td>0</td>\n",
              "      <td>NaN</td>\n",
              "      <td>NaN</td>\n",
              "      <td>NaN</td>\n",
              "      <td>NaN</td>\n",
              "      <td>NaN</td>\n",
              "      <td>NaN</td>\n",
              "      <td>NaN</td>\n",
              "      <td>NaN</td>\n",
              "      <td>NaN</td>\n",
              "      <td>NaN</td>\n",
              "    </tr>\n",
              "    <tr>\n",
              "      <th>4</th>\n",
              "      <td>0.0</td>\n",
              "      <td>1</td>\n",
              "      <td>1</td>\n",
              "      <td>0</td>\n",
              "      <td>na</td>\n",
              "      <td>0.0</td>\n",
              "      <td>0.0</td>\n",
              "      <td>0.0</td>\n",
              "      <td>0</td>\n",
              "      <td>28.0</td>\n",
              "      <td>0</td>\n",
              "      <td>NaN</td>\n",
              "      <td>NaN</td>\n",
              "      <td>NaN</td>\n",
              "      <td>NaN</td>\n",
              "      <td>NaN</td>\n",
              "      <td>NaN</td>\n",
              "      <td>NaN</td>\n",
              "      <td>NaN</td>\n",
              "      <td>NaN</td>\n",
              "      <td>NaN</td>\n",
              "    </tr>\n",
              "    <tr>\n",
              "      <th>...</th>\n",
              "      <td>...</td>\n",
              "      <td>...</td>\n",
              "      <td>...</td>\n",
              "      <td>...</td>\n",
              "      <td>...</td>\n",
              "      <td>...</td>\n",
              "      <td>...</td>\n",
              "      <td>...</td>\n",
              "      <td>...</td>\n",
              "      <td>...</td>\n",
              "      <td>...</td>\n",
              "      <td>...</td>\n",
              "      <td>...</td>\n",
              "      <td>...</td>\n",
              "      <td>...</td>\n",
              "      <td>...</td>\n",
              "      <td>...</td>\n",
              "      <td>...</td>\n",
              "      <td>...</td>\n",
              "      <td>...</td>\n",
              "      <td>...</td>\n",
              "    </tr>\n",
              "    <tr>\n",
              "      <th>111</th>\n",
              "      <td>1.0</td>\n",
              "      <td>3</td>\n",
              "      <td>1</td>\n",
              "      <td>1</td>\n",
              "      <td>driving</td>\n",
              "      <td>1.0</td>\n",
              "      <td>1.0</td>\n",
              "      <td>1.0</td>\n",
              "      <td>7</td>\n",
              "      <td>32.0</td>\n",
              "      <td>1</td>\n",
              "      <td>[]</td>\n",
              "      <td>16000.0</td>\n",
              "      <td>Yes</td>\n",
              "      <td>maharashtra</td>\n",
              "      <td>['mumbai']</td>\n",
              "      <td>Sion</td>\n",
              "      <td>['hindi ', 'marathi']</td>\n",
              "      <td>7th</td>\n",
              "      <td>['15']</td>\n",
              "      <td>Timestamp(seconds=1594970480, nanoseconds=7126...</td>\n",
              "    </tr>\n",
              "    <tr>\n",
              "      <th>112</th>\n",
              "      <td>1.0</td>\n",
              "      <td>2</td>\n",
              "      <td>1</td>\n",
              "      <td>1</td>\n",
              "      <td>out work  / office</td>\n",
              "      <td>1.0</td>\n",
              "      <td>9.0</td>\n",
              "      <td>1.0</td>\n",
              "      <td>6</td>\n",
              "      <td>32.0</td>\n",
              "      <td>1</td>\n",
              "      <td>['out door ']</td>\n",
              "      <td>18000.0</td>\n",
              "      <td>Yes</td>\n",
              "      <td>MAHARASHTRA</td>\n",
              "      <td>['ghatkopar']</td>\n",
              "      <td>ghatkopar</td>\n",
              "      <td>['gujarati ', 'hindi ', 'English ']</td>\n",
              "      <td>9</td>\n",
              "      <td>['8']</td>\n",
              "      <td>Timestamp(seconds=1595599911, nanoseconds=9506...</td>\n",
              "    </tr>\n",
              "    <tr>\n",
              "      <th>113</th>\n",
              "      <td>0.0</td>\n",
              "      <td>4</td>\n",
              "      <td>1</td>\n",
              "      <td>0</td>\n",
              "      <td>na</td>\n",
              "      <td>0.0</td>\n",
              "      <td>0.0</td>\n",
              "      <td>0.0</td>\n",
              "      <td>0</td>\n",
              "      <td>28.0</td>\n",
              "      <td>0</td>\n",
              "      <td>NaN</td>\n",
              "      <td>NaN</td>\n",
              "      <td>NaN</td>\n",
              "      <td>NaN</td>\n",
              "      <td>NaN</td>\n",
              "      <td>NaN</td>\n",
              "      <td>NaN</td>\n",
              "      <td>NaN</td>\n",
              "      <td>NaN</td>\n",
              "      <td>NaN</td>\n",
              "    </tr>\n",
              "    <tr>\n",
              "      <th>114</th>\n",
              "      <td>1.0</td>\n",
              "      <td>5</td>\n",
              "      <td>1</td>\n",
              "      <td>1</td>\n",
              "      <td>Mechanic</td>\n",
              "      <td>1.0</td>\n",
              "      <td>10.0</td>\n",
              "      <td>1.0</td>\n",
              "      <td>6</td>\n",
              "      <td>22.0</td>\n",
              "      <td>1</td>\n",
              "      <td>['Mechanical']</td>\n",
              "      <td>15000.0</td>\n",
              "      <td>Yes</td>\n",
              "      <td>Maharashtra</td>\n",
              "      <td>['Pune']</td>\n",
              "      <td>Pune</td>\n",
              "      <td>['Marathi', 'English', 'Hindi']</td>\n",
              "      <td>B. com and ITI in Mechanic Motor Vehicle</td>\n",
              "      <td>['1']</td>\n",
              "      <td>Timestamp(seconds=1595687061, nanoseconds=9402...</td>\n",
              "    </tr>\n",
              "    <tr>\n",
              "      <th>115</th>\n",
              "      <td>1.0</td>\n",
              "      <td>5</td>\n",
              "      <td>1</td>\n",
              "      <td>1</td>\n",
              "      <td>Design</td>\n",
              "      <td>1.0</td>\n",
              "      <td>14.0</td>\n",
              "      <td>0.0</td>\n",
              "      <td>1</td>\n",
              "      <td>28.0</td>\n",
              "      <td>0</td>\n",
              "      <td>[]</td>\n",
              "      <td>NaN</td>\n",
              "      <td>No</td>\n",
              "      <td>NaN</td>\n",
              "      <td>['Mumbai']</td>\n",
              "      <td>NaN</td>\n",
              "      <td>['English']</td>\n",
              "      <td>NaN</td>\n",
              "      <td>['2']</td>\n",
              "      <td>NaN</td>\n",
              "    </tr>\n",
              "  </tbody>\n",
              "</table>\n",
              "<p>116 rows × 21 columns</p>\n",
              "</div>"
            ],
            "text/plain": [
              "     mobile_number  ...                                   edited timestamp\n",
              "0              0.0  ...                                                NaN\n",
              "1              1.0  ...                                                NaN\n",
              "2              0.0  ...                                                NaN\n",
              "3              0.0  ...                                                NaN\n",
              "4              0.0  ...                                                NaN\n",
              "..             ...  ...                                                ...\n",
              "111            1.0  ...  Timestamp(seconds=1594970480, nanoseconds=7126...\n",
              "112            1.0  ...  Timestamp(seconds=1595599911, nanoseconds=9506...\n",
              "113            0.0  ...                                                NaN\n",
              "114            1.0  ...  Timestamp(seconds=1595687061, nanoseconds=9402...\n",
              "115            1.0  ...                                                NaN\n",
              "\n",
              "[116 rows x 21 columns]"
            ]
          },
          "metadata": {
            "tags": []
          },
          "execution_count": 10
        }
      ]
    },
    {
      "cell_type": "markdown",
      "metadata": {
        "id": "jmogaSTfoIuP",
        "colab_type": "text"
      },
      "source": [
        "User.csv after the filtering of half the datas"
      ]
    },
    {
      "cell_type": "code",
      "metadata": {
        "id": "miUSBdf2rKQn",
        "colab_type": "code",
        "colab": {
          "base_uri": "https://localhost:8080/",
          "height": 643
        },
        "outputId": "d576cd97-5ff5-48f3-cccd-8bac0b12ab81"
      },
      "source": [
        "fig, ax = plt.subplots(figsize=(9,9)) \n",
        "sns.heatmap(user.isnull(),yticklabels=False,cmap='viridis',cbar=False,annot=True, linewidths=.5, ax=ax)  "
      ],
      "execution_count": 11,
      "outputs": [
        {
          "output_type": "execute_result",
          "data": {
            "text/plain": [
              "<matplotlib.axes._subplots.AxesSubplot at 0x7f13b01b50f0>"
            ]
          },
          "metadata": {
            "tags": []
          },
          "execution_count": 11
        },
        {
          "output_type": "display_data",
          "data": {
            "image/png": "[encoded data removed]",
            "text/plain": [
              "<Figure size 648x648 with 1 Axes>"
            ]
          },
          "metadata": {
            "tags": [],
            "needs_background": "light"
          }
        }
      ]
    },
    {
      "cell_type": "markdown",
      "metadata": {
        "id": "S7AR8bWzjUOA",
        "colab_type": "text"
      },
      "source": [
        " **This is a class wordy that converts job or professional words into vector using an external dataframe from naukri.com and later these vecotrs are used for extrating numarical features in the Jobs.csv dataset for clustering**"
      ]
    },
    {
      "cell_type": "code",
      "metadata": {
        "id": "sEx5nFsEfIil",
        "colab_type": "code",
        "colab": {}
      },
      "source": [
        "class wordy:\n",
        "  def __init__(self):\n",
        "    self.model=None\n",
        "\n",
        "  def create_word_to_vec(self):\n",
        "\n",
        "    if self.model is None:\n",
        "      print('word to vec forming: ')\n",
        "\n",
        "      data=pd.read_csv('/content/more/marketing_sample_for_naukri_com-jobs__20190701_20190830__30k_data.csv')\n",
        "\n",
        "      wv=data[['Job Title','Key Skills','Role Category','Functional Area','Industry','Role']]\n",
        "\n",
        "      wv=wv.fillna('')\n",
        "      \n",
        "      wv['Key Skills']=wv['Key Skills'].apply(lambda x: str(x).replace('|',''))\n",
        "      \n",
        "      wv['Functional Area']=wv['Functional Area'].apply(lambda x: x.replace(',',''))\n",
        "      \n",
        "      wv['Industry']=wv['Industry'].apply(lambda x: x.replace(',',''))\n",
        "\n",
        "      print('==',end='>')\n",
        "\n",
        "      arr=[]\n",
        "      for i in range(len(wv)):\n",
        "        x=(wv.iloc[i][0]+' '+wv.iloc[i][1]+' '+wv.iloc[i][2]+' '+wv.iloc[i][3]+' '+wv.iloc[i][4]+' '+wv.iloc[i][5]).lower()\n",
        "        x=re.sub('\\[[0-9]\"\\]',' ',x)\n",
        "        x=re.sub('\\d',' ',x)\n",
        "        x=re.sub('\\s+',' ',x)\n",
        "        arr.append(x)\n",
        "      print('==',end='>')\n",
        "      sentences=[nltk.word_tokenize(i) for i in arr]\n",
        "      print('==',end='>')\n",
        "      for i in range(len(sentences)):\n",
        "        sentences[i]=[word for word in sentences[i] if word not in stopwords.words('english')]\n",
        "      print('==',end='>')\n",
        "      self.model=Word2Vec(sentences,min_count=1,size=1)\n",
        "      ########################################################### CAN BE DELETED JUST FOR SHOW--down\n",
        "      print('=>\\ncompleted')\n",
        "\n",
        "    else:\n",
        "      print('word to vector has already formed')\n",
        "\n",
        "  def get_vec(self,word=''):\n",
        "    if self.model is None:\n",
        "      return ('model not formed please call: wordy.create_word_to_vec() ')    \n",
        "    try:\n",
        "      x=self.model.wv[word]\n",
        "      return x[0]\n",
        "    except:\n",
        "      return 0.5\n",
        "\n",
        "  def get_model(self):\n",
        "    if self.model:\n",
        "      return self.model\n",
        "    else:\n",
        "      print('model not formed please call: wordy.create_word_to_vec()')"
      ],
      "execution_count": 12,
      "outputs": []
    },
    {
      "cell_type": "markdown",
      "metadata": {
        "id": "vLGmVmdspiHh",
        "colab_type": "text"
      },
      "source": [
        "# Now we come to the main Documnet that is Jobs.csv\n",
        "\n",
        "\n",
        "\n",
        "*   at first we drop all the unrequired columns\n",
        "*   the we change the timestamp values to hours by subtracting it with the maximum timestamp value \n",
        "\n",
        "\n",
        "*   for salary we choose the minimum salary of a person that he/ she has listed \n",
        "*   we make the year of experience column cleaner by removing characters and alphabets by using the ch(x) function\n",
        "*   for status we gave open as -> 1 and ->0 for close\n",
        "*   we changed qualification to no. by counting the no. of commas assuming as the no. of qualifications one had enter.\n",
        "*  For city we uploaded another city.csv and cleaned that file further we gave a score to each city with value , in accordace to their population. Later compared the city in jobs.csv with city.csv and maked the score attached.\n",
        "#### For city i have used ***y=(20/x)*** as a fuction so that value stays between a limit and it may not go very up or down the the whole fuction becomes ***y=(20/x) - z*** to see the fuction click [here](https://www.google.com/search?rlz=1C1CHBD_enIN894IN895&sxsrf=ALeKk023pu9vQvanAQYWZ0dpLw-2Ug1QWw%3A1599882619675&ei=e0VcX_bhKPid4-EPj5KXyAs&q=y%3D20%2Fx&oq=y%3D20%2Fx&gs_lcp=CgZwc3ktYWIQAzICCAAyBAgAEB4yBAgAEB4yBAgAEB4yBAgAEB4yBAgAEB4yBAgAEB4yBAgAEB4yBggAEAUQHjIGCAAQBRAeOgcIIxDqAhAnOgQIABBDOggIABCxAxCDAToFCAAQsQM6BAgjECc6AggmOgYIABAKEB5QubafAliR2p8CYMPhnwJoAXAAeACAAecCiAGDCZIBBzAuNS4wLjGYAQCgAQGqAQdnd3Mtd2l6sAEKwAEB&sclient=psy-ab&ved=0ahUKEwi2i-mZ2-LrAhX4zjgGHQ_JBbkQ4dUDCA0&uact=5)\n",
        "\n",
        "\n",
        "\n",
        "\n"
      ]
    },
    {
      "cell_type": "code",
      "metadata": {
        "id": "5EyFaH2rFQpa",
        "colab_type": "code",
        "colab": {
          "base_uri": "https://localhost:8080/",
          "height": 132
        },
        "outputId": "32a7cdcb-5299-4b86-a176-b913d9fa1157"
      },
      "source": [
        "def filter_data(df):\n",
        "  #df=pd.read_csv('/content/job.csv')\n",
        "\n",
        "  date=df['Apply by date'][0]\n",
        "\n",
        "  df=df.drop(['Job location lat','Job starting date','Job location long','generated post id','searchkey','image_url','user id','job_id','Company name','Apply by date'],axis=1)\n",
        "\n",
        "  df=df.iloc[:-2]\n",
        "  #######################################################################\n",
        "  df.timestamp=df.timestamp.apply(lambda x: str(x).split(',')[0].strip('Timestamp(seconds='))\n",
        "  df.timestamp=df.timestamp.apply(lambda x: 0  if x is '' else int(x))\n",
        "  df.timestamp=df.timestamp.apply(lambda x: int(user.timestamp.median()) if x is 0 else x )\n",
        "  df.timestamp=df.timestamp.apply(lambda x: pd.Timestamp(x, unit='s'))\n",
        "  m=df.timestamp.max()\n",
        "  df.timestamp=df.timestamp.apply(lambda x: m-x)\n",
        "  df.timestamp=df.timestamp.apply(lambda x: x.days*24 + (x.seconds/60)/60)\n",
        "  #########################################################################\n",
        "  df['Salary per Month']=df['Salary per Month'].apply(lambda x: float(str(x).replace('k','000').partition('-')[0])/1000 )\n",
        "\n",
        "  ########################################################################\n",
        "  def ch(x):\n",
        "    x=x.split('-')\n",
        "    x=\"\".join(x)\n",
        "    x=re.sub('\\D',\"\",x)\n",
        "    return x\n",
        "\n",
        "  df['Year of experience']=df['Year of experience'].apply(lambda x: float(ch(x)))\n",
        "\n",
        "  #########################################################################\n",
        "  d={ 'open':1.0, 'close': 0.0 }\n",
        "  df=df.replace({'status': d})\n",
        "\n",
        "  #################################################\n",
        "\n",
        "  df['Qualification']=df['Qualification'].apply(lambda x: float(x.count(','))+1 )\n",
        "\n",
        "  ###############################################################################################\n",
        "\n",
        "  city=pd.read_csv('/content/city_lis.csv')\n",
        "  #clean the city.csv file \n",
        "  city=city.drop(['State','Type','Population class','Type'],axis=1)\n",
        "  city['Name of City']=city['Name of City'].apply(lambda x: x.lower())\n",
        "  city['Population (2011)']=city['Population (2011)'].apply(lambda x: float(re.sub(',','',x)))\n",
        "  # assinging value sto each city w.r.t the population of the city and storing in  a dictionary\n",
        "  k=[]\n",
        "  dic={}\n",
        "  cit_lis=[]\n",
        "  for i in range(len(city)):\n",
        "    v=city.iloc[i][1]\n",
        "    if v >= 10000:\n",
        "      m= 4\n",
        "    if v >= 20000:\n",
        "      m=3\n",
        "    if v >= 50000:\n",
        "      m=2\n",
        "    if v >= 100000:\n",
        "      m=1\n",
        "    else :\n",
        "      m=5\n",
        "    cit_lis.append(city.iloc[i][0])\n",
        "    dic.update({city.iloc[i][0] : m })\n",
        "\n",
        "  def jo(x):\n",
        "    x=x.split(',')\n",
        "    sum=0\n",
        "    t=[]\n",
        "    for i in x:\n",
        "      p=i.split('(')[0].strip(' ')\n",
        "      t.append(p)\n",
        "    for i in t:\n",
        "      for j in i.split():\n",
        "        j=j.lower()\n",
        "        if j in cit_lis:\n",
        "          sum+=dic[j]\n",
        "    if sum==0:\n",
        "      return 10\n",
        "  # here we are using this such that the value does no ecceed or decrease a limit we want it to be in a reage\n",
        "  # the equation of given fuction below can be seen here-> https://www.google.com/search?rlz=1C1CHBD_enIN894IN895&sxsrf=ALeKk023pu9vQvanAQYWZ0dpLw-2Ug1QWw%3A1599882619675&ei=e0VcX_bhKPid4-EPj5KXyAs&q=y%3D20%2Fx&oq=y%3D20%2Fx&gs_lcp=CgZwc3ktYWIQAzICCAAyBAgAEB4yBAgAEB4yBAgAEB4yBAgAEB4yBAgAEB4yBAgAEB4yBAgAEB4yBggAEAUQHjIGCAAQBRAeOgcIIxDqAhAnOgQIABBDOggIABCxAxCDAToFCAAQsQM6BAgjECc6AggmOgYIABAKEB5QubafAliR2p8CYMPhnwJoAXAAeACAAecCiAGDCZIBBzAuNS4wLjGYAQCgAQGqAQdnd3Mtd2l6sAEKwAEB&sclient=psy-ab&ved=0ahUKEwi2i-mZ2-LrAhX4zjgGHQ_JBbkQ4dUDCA0&uact=5\n",
        "    return (20/sum)-len(t)\n",
        "\n",
        "  ################################################################\n",
        "  df['Job location']=df['Job location'].apply(lambda x: jo(x))\n",
        "  #############################################################\n",
        "  # Now for job title and about job i have created a word to vec from a preexisting dataset from naukri.com\n",
        "  #with that information once the word to vect for specific word was created (here ecah vecto in 1 dimesional)\n",
        "  #we replace the word in 'job title' and 'about job' woth their specific vector and if vector is not available\n",
        "  #the surely it means the work is not much in demand thus the vector we get is zer\n",
        "\n",
        "  #so for multiole words in a block we take avergae of vectors of each word in block in do_it(x) funtion \n",
        "\n",
        "  w=wordy() #load the wordy class\n",
        "  w.create_word_to_vec() #this creates the word to vector\n",
        "\n",
        "  #this function averages out the vector value for each block\n",
        "  def do_it(x):\n",
        "    x=x.lower().split()\n",
        "    c=0\n",
        "    sum=0\n",
        "    for j in x:\n",
        "      c+=1\n",
        "      sum+=w.get_vec(j)#here w.do(j) gets the vector for string j\n",
        "    return sum/c \n",
        "\n",
        "  df['Job title']=df['Job title'].apply(lambda x: do_it(x))\n",
        "\n",
        "  ###################################################################\n",
        "\n",
        "\n",
        "  for i in range(len(df['About job'])):\n",
        "    sentence=df['About job'][0]\n",
        "    sentence=sentence.replace('  ','').split(',')\n",
        "\n",
        "    for i in range(len(sentence)):\n",
        "      sentence[i]=sentence[i].replace('  ','').replace('.','').lower().split() \n",
        "      sentence[i]=[word for word in sentence[i] if word not in stopwords.words('english') ] \n",
        "      sentence[i]=' '.join(sentence[i]) \n",
        "      df['About job'][i]=sentence[i] \n",
        "\n",
        "  df['About job']=df['About job'].apply(lambda x: do_it(x))\n",
        "\n",
        "  ####################################################\n",
        "  def req(x):\n",
        "    di={'they would have to stay near our plant':4 ,'no':0}\n",
        "    x=x.lower()\n",
        "    try:\n",
        "      return di[x]\n",
        "    except:\n",
        "      return -2\n",
        "\n",
        "  df['Requirements']=df['Requirements'].apply(lambda x: req(str(x)))\n",
        "\n",
        "  return df\n"
      ],
      "execution_count": 13,
      "outputs": [
        {
          "output_type": "stream",
          "text": [
            "word to vec forming: \n",
            "==>==>==>==>=>\n",
            "completed\n"
          ],
          "name": "stdout"
        },
        {
          "output_type": "stream",
          "text": [
            "/usr/local/lib/python3.6/dist-packages/ipykernel_launcher.py:117: SettingWithCopyWarning: \n",
            "A value is trying to be set on a copy of a slice from a DataFrame\n",
            "\n",
            "See the caveats in the documentation: https://pandas.pydata.org/pandas-docs/stable/user_guide/indexing.html#returning-a-view-versus-a-copy\n"
          ],
          "name": "stderr"
        }
      ]
    },
    {
      "cell_type": "code",
      "metadata": {
        "id": "rItJZSISkOLj",
        "colab_type": "code",
        "colab": {
          "base_uri": "https://localhost:8080/",
          "height": 271
        },
        "outputId": "4dbd533e-6848-494d-aa71-9308f031dfd3"
      },
      "source": [
        "h=df.drop(['timestamp','Hiring for month'],axis=1)\n",
        "h"
      ],
      "execution_count": 15,
      "outputs": [
        {
          "output_type": "execute_result",
          "data": {
            "text/html": [
              "<div>\n",
              "<style scoped>\n",
              "    .dataframe tbody tr th:only-of-type {\n",
              "        vertical-align: middle;\n",
              "    }\n",
              "\n",
              "    .dataframe tbody tr th {\n",
              "        vertical-align: top;\n",
              "    }\n",
              "\n",
              "    .dataframe thead th {\n",
              "        text-align: right;\n",
              "    }\n",
              "</style>\n",
              "<table border=\"1\" class=\"dataframe\">\n",
              "  <thead>\n",
              "    <tr style=\"text-align: right;\">\n",
              "      <th></th>\n",
              "      <th>Salary per Month</th>\n",
              "      <th>Job title</th>\n",
              "      <th>Year of experience</th>\n",
              "      <th>Job location</th>\n",
              "      <th>About job</th>\n",
              "      <th>status</th>\n",
              "      <th>Number of openings</th>\n",
              "      <th>Requirements</th>\n",
              "      <th>Qualification</th>\n",
              "    </tr>\n",
              "  </thead>\n",
              "  <tbody>\n",
              "    <tr>\n",
              "      <th>0</th>\n",
              "      <td>9.0</td>\n",
              "      <td>0.500000</td>\n",
              "      <td>1.0</td>\n",
              "      <td>16.0</td>\n",
              "      <td>1.388870</td>\n",
              "      <td>1.0</td>\n",
              "      <td>15</td>\n",
              "      <td>4</td>\n",
              "      <td>2.0</td>\n",
              "    </tr>\n",
              "    <tr>\n",
              "      <th>1</th>\n",
              "      <td>8.0</td>\n",
              "      <td>0.804426</td>\n",
              "      <td>3.0</td>\n",
              "      <td>1.0</td>\n",
              "      <td>0.500000</td>\n",
              "      <td>1.0</td>\n",
              "      <td>10</td>\n",
              "      <td>-2</td>\n",
              "      <td>1.0</td>\n",
              "    </tr>\n",
              "    <tr>\n",
              "      <th>2</th>\n",
              "      <td>10.0</td>\n",
              "      <td>0.529379</td>\n",
              "      <td>1.0</td>\n",
              "      <td>16.0</td>\n",
              "      <td>1.756271</td>\n",
              "      <td>1.0</td>\n",
              "      <td>15</td>\n",
              "      <td>0</td>\n",
              "      <td>2.0</td>\n",
              "    </tr>\n",
              "    <tr>\n",
              "      <th>3</th>\n",
              "      <td>9.0</td>\n",
              "      <td>2.137436</td>\n",
              "      <td>1.0</td>\n",
              "      <td>16.0</td>\n",
              "      <td>1.992914</td>\n",
              "      <td>1.0</td>\n",
              "      <td>15</td>\n",
              "      <td>4</td>\n",
              "      <td>2.0</td>\n",
              "    </tr>\n",
              "    <tr>\n",
              "      <th>4</th>\n",
              "      <td>9.0</td>\n",
              "      <td>0.500000</td>\n",
              "      <td>1.0</td>\n",
              "      <td>16.0</td>\n",
              "      <td>0.844897</td>\n",
              "      <td>1.0</td>\n",
              "      <td>25</td>\n",
              "      <td>0</td>\n",
              "      <td>1.0</td>\n",
              "    </tr>\n",
              "    <tr>\n",
              "      <th>5</th>\n",
              "      <td>9.0</td>\n",
              "      <td>0.833593</td>\n",
              "      <td>1.0</td>\n",
              "      <td>1.0</td>\n",
              "      <td>1.098172</td>\n",
              "      <td>1.0</td>\n",
              "      <td>10</td>\n",
              "      <td>0</td>\n",
              "      <td>3.0</td>\n",
              "    </tr>\n",
              "    <tr>\n",
              "      <th>6</th>\n",
              "      <td>9.0</td>\n",
              "      <td>2.742698</td>\n",
              "      <td>1.0</td>\n",
              "      <td>16.0</td>\n",
              "      <td>1.106008</td>\n",
              "      <td>1.0</td>\n",
              "      <td>25</td>\n",
              "      <td>4</td>\n",
              "      <td>2.0</td>\n",
              "    </tr>\n",
              "    <tr>\n",
              "      <th>7</th>\n",
              "      <td>9.0</td>\n",
              "      <td>0.500000</td>\n",
              "      <td>3.0</td>\n",
              "      <td>16.0</td>\n",
              "      <td>2.111079</td>\n",
              "      <td>1.0</td>\n",
              "      <td>15</td>\n",
              "      <td>4</td>\n",
              "      <td>1.0</td>\n",
              "    </tr>\n",
              "  </tbody>\n",
              "</table>\n",
              "</div>"
            ],
            "text/plain": [
              "   Salary per Month  Job title  ...  Requirements  Qualification\n",
              "0               9.0   0.500000  ...             4            2.0\n",
              "1               8.0   0.804426  ...            -2            1.0\n",
              "2              10.0   0.529379  ...             0            2.0\n",
              "3               9.0   2.137436  ...             4            2.0\n",
              "4               9.0   0.500000  ...             0            1.0\n",
              "5               9.0   0.833593  ...             0            3.0\n",
              "6               9.0   2.742698  ...             4            2.0\n",
              "7               9.0   0.500000  ...             4            1.0\n",
              "\n",
              "[8 rows x 9 columns]"
            ]
          },
          "metadata": {
            "tags": []
          },
          "execution_count": 15
        }
      ]
    },
    {
      "cell_type": "markdown",
      "metadata": {
        "id": "SpCnPw4BZAX3",
        "colab_type": "text"
      },
      "source": [
        "**here we make the dataframe with one hot encoding for job title**"
      ]
    },
    {
      "cell_type": "code",
      "metadata": {
        "id": "-OBsZ5TuUUhC",
        "colab_type": "code",
        "colab": {
          "base_uri": "https://localhost:8080/",
          "height": 271
        },
        "outputId": "7118e272-6aa4-4198-aff2-1b6e87031367"
      },
      "source": [
        "from sklearn.preprocessing import OneHotEncoder \n",
        "from sklearn.compose import ColumnTransformer \n",
        "   \n",
        "# creating one hot encoder object with categorical feature 0 \n",
        "# indicating the first column \n",
        "columnTransformer = ColumnTransformer([('encoder', \n",
        "                                        OneHotEncoder(), \n",
        "                                        [1])], \n",
        "                                      remainder='passthrough')\n",
        "h=pd.DataFrame(columnTransformer.fit_transform(h), dtype = np.str) \n",
        "h"
      ],
      "execution_count": 16,
      "outputs": [
        {
          "output_type": "execute_result",
          "data": {
            "text/html": [
              "<div>\n",
              "<style scoped>\n",
              "    .dataframe tbody tr th:only-of-type {\n",
              "        vertical-align: middle;\n",
              "    }\n",
              "\n",
              "    .dataframe tbody tr th {\n",
              "        vertical-align: top;\n",
              "    }\n",
              "\n",
              "    .dataframe thead th {\n",
              "        text-align: right;\n",
              "    }\n",
              "</style>\n",
              "<table border=\"1\" class=\"dataframe\">\n",
              "  <thead>\n",
              "    <tr style=\"text-align: right;\">\n",
              "      <th></th>\n",
              "      <th>0</th>\n",
              "      <th>1</th>\n",
              "      <th>2</th>\n",
              "      <th>3</th>\n",
              "      <th>4</th>\n",
              "      <th>5</th>\n",
              "      <th>6</th>\n",
              "      <th>7</th>\n",
              "      <th>8</th>\n",
              "      <th>9</th>\n",
              "      <th>10</th>\n",
              "      <th>11</th>\n",
              "      <th>12</th>\n",
              "      <th>13</th>\n",
              "    </tr>\n",
              "  </thead>\n",
              "  <tbody>\n",
              "    <tr>\n",
              "      <th>0</th>\n",
              "      <td>1.0</td>\n",
              "      <td>0.0</td>\n",
              "      <td>0.0</td>\n",
              "      <td>0.0</td>\n",
              "      <td>0.0</td>\n",
              "      <td>0.0</td>\n",
              "      <td>9.0</td>\n",
              "      <td>1.0</td>\n",
              "      <td>16.0</td>\n",
              "      <td>1.3888699213663738</td>\n",
              "      <td>1.0</td>\n",
              "      <td>15.0</td>\n",
              "      <td>4.0</td>\n",
              "      <td>2.0</td>\n",
              "    </tr>\n",
              "    <tr>\n",
              "      <th>1</th>\n",
              "      <td>0.0</td>\n",
              "      <td>0.0</td>\n",
              "      <td>1.0</td>\n",
              "      <td>0.0</td>\n",
              "      <td>0.0</td>\n",
              "      <td>0.0</td>\n",
              "      <td>8.0</td>\n",
              "      <td>3.0</td>\n",
              "      <td>1.0</td>\n",
              "      <td>0.5</td>\n",
              "      <td>1.0</td>\n",
              "      <td>10.0</td>\n",
              "      <td>-2.0</td>\n",
              "      <td>1.0</td>\n",
              "    </tr>\n",
              "    <tr>\n",
              "      <th>2</th>\n",
              "      <td>0.0</td>\n",
              "      <td>1.0</td>\n",
              "      <td>0.0</td>\n",
              "      <td>0.0</td>\n",
              "      <td>0.0</td>\n",
              "      <td>0.0</td>\n",
              "      <td>10.0</td>\n",
              "      <td>1.0</td>\n",
              "      <td>16.0</td>\n",
              "      <td>1.7562706135213375</td>\n",
              "      <td>1.0</td>\n",
              "      <td>15.0</td>\n",
              "      <td>0.0</td>\n",
              "      <td>2.0</td>\n",
              "    </tr>\n",
              "    <tr>\n",
              "      <th>3</th>\n",
              "      <td>0.0</td>\n",
              "      <td>0.0</td>\n",
              "      <td>0.0</td>\n",
              "      <td>0.0</td>\n",
              "      <td>1.0</td>\n",
              "      <td>0.0</td>\n",
              "      <td>9.0</td>\n",
              "      <td>1.0</td>\n",
              "      <td>16.0</td>\n",
              "      <td>1.9929144382476807</td>\n",
              "      <td>1.0</td>\n",
              "      <td>15.0</td>\n",
              "      <td>4.0</td>\n",
              "      <td>2.0</td>\n",
              "    </tr>\n",
              "    <tr>\n",
              "      <th>4</th>\n",
              "      <td>1.0</td>\n",
              "      <td>0.0</td>\n",
              "      <td>0.0</td>\n",
              "      <td>0.0</td>\n",
              "      <td>0.0</td>\n",
              "      <td>0.0</td>\n",
              "      <td>9.0</td>\n",
              "      <td>1.0</td>\n",
              "      <td>16.0</td>\n",
              "      <td>0.8448971323668957</td>\n",
              "      <td>1.0</td>\n",
              "      <td>25.0</td>\n",
              "      <td>0.0</td>\n",
              "      <td>1.0</td>\n",
              "    </tr>\n",
              "    <tr>\n",
              "      <th>5</th>\n",
              "      <td>0.0</td>\n",
              "      <td>0.0</td>\n",
              "      <td>0.0</td>\n",
              "      <td>1.0</td>\n",
              "      <td>0.0</td>\n",
              "      <td>0.0</td>\n",
              "      <td>9.0</td>\n",
              "      <td>1.0</td>\n",
              "      <td>1.0</td>\n",
              "      <td>1.0981722250580788</td>\n",
              "      <td>1.0</td>\n",
              "      <td>10.0</td>\n",
              "      <td>0.0</td>\n",
              "      <td>3.0</td>\n",
              "    </tr>\n",
              "    <tr>\n",
              "      <th>6</th>\n",
              "      <td>0.0</td>\n",
              "      <td>0.0</td>\n",
              "      <td>0.0</td>\n",
              "      <td>0.0</td>\n",
              "      <td>0.0</td>\n",
              "      <td>1.0</td>\n",
              "      <td>9.0</td>\n",
              "      <td>1.0</td>\n",
              "      <td>16.0</td>\n",
              "      <td>1.106008420387904</td>\n",
              "      <td>1.0</td>\n",
              "      <td>25.0</td>\n",
              "      <td>4.0</td>\n",
              "      <td>2.0</td>\n",
              "    </tr>\n",
              "    <tr>\n",
              "      <th>7</th>\n",
              "      <td>1.0</td>\n",
              "      <td>0.0</td>\n",
              "      <td>0.0</td>\n",
              "      <td>0.0</td>\n",
              "      <td>0.0</td>\n",
              "      <td>0.0</td>\n",
              "      <td>9.0</td>\n",
              "      <td>3.0</td>\n",
              "      <td>16.0</td>\n",
              "      <td>2.111079295476278</td>\n",
              "      <td>1.0</td>\n",
              "      <td>15.0</td>\n",
              "      <td>4.0</td>\n",
              "      <td>1.0</td>\n",
              "    </tr>\n",
              "  </tbody>\n",
              "</table>\n",
              "</div>"
            ],
            "text/plain": [
              "    0    1    2    3    4    5   ...    8                   9    10    11    12   13\n",
              "0  1.0  0.0  0.0  0.0  0.0  0.0  ...  16.0  1.3888699213663738  1.0  15.0   4.0  2.0\n",
              "1  0.0  0.0  1.0  0.0  0.0  0.0  ...   1.0                 0.5  1.0  10.0  -2.0  1.0\n",
              "2  0.0  1.0  0.0  0.0  0.0  0.0  ...  16.0  1.7562706135213375  1.0  15.0   0.0  2.0\n",
              "3  0.0  0.0  0.0  0.0  1.0  0.0  ...  16.0  1.9929144382476807  1.0  15.0   4.0  2.0\n",
              "4  1.0  0.0  0.0  0.0  0.0  0.0  ...  16.0  0.8448971323668957  1.0  25.0   0.0  1.0\n",
              "5  0.0  0.0  0.0  1.0  0.0  0.0  ...   1.0  1.0981722250580788  1.0  10.0   0.0  3.0\n",
              "6  0.0  0.0  0.0  0.0  0.0  1.0  ...  16.0   1.106008420387904  1.0  25.0   4.0  2.0\n",
              "7  1.0  0.0  0.0  0.0  0.0  0.0  ...  16.0   2.111079295476278  1.0  15.0   4.0  1.0\n",
              "\n",
              "[8 rows x 14 columns]"
            ]
          },
          "metadata": {
            "tags": []
          },
          "execution_count": 16
        }
      ]
    },
    {
      "cell_type": "markdown",
      "metadata": {
        "id": "5cgXE2c1ZNbW",
        "colab_type": "text"
      },
      "source": [
        "# Clustering withour scaling"
      ]
    },
    {
      "cell_type": "markdown",
      "metadata": {
        "id": "oi9TIbCKvw7R",
        "colab_type": "text"
      },
      "source": [
        "**clustering withour sclaing the values**"
      ]
    },
    {
      "cell_type": "code",
      "metadata": {
        "id": "b_PVuAqvhVbL",
        "colab_type": "code",
        "colab": {
          "base_uri": "https://localhost:8080/",
          "height": 790
        },
        "outputId": "af32c7e9-9585-4914-dbf0-a7b3228b1d39"
      },
      "source": [
        "#scalar = MinMaxScaler()\n",
        "#scaled_data = scalar.fit_transform(x)\n",
        "#scaled_data\n",
        "ssd=[]\n",
        "K=range(1,8)\n",
        "for k in K:\n",
        "    km=KMeans(n_clusters=k)\n",
        "    km=km.fit(df)\n",
        "    ssd.append(km.inertia_)\n",
        "\n",
        "plt.figure(figsize=(6,6))\n",
        "plt.plot(K,ssd,'bx-')\n",
        "plt.xlabel(\"k\")\n",
        "plt.ylabel('ssd')\n",
        "plt.title('elbow method fig 1.1')\n",
        "plt.show()\n",
        "############# NOW THE ONE WITH ONE HOT ENCODING BUT WITHOUT SCALING\n",
        "ssd=[]\n",
        "K=range(1,8)\n",
        "for k in K:\n",
        "    km=KMeans(n_clusters=k)\n",
        "    km=km.fit(h)\n",
        "    ssd.append(km.inertia_)\n",
        "\n",
        "plt.figure(figsize=(6,6))\n",
        "plt.plot(K,ssd,'bx-')\n",
        "plt.xlabel(\"k\")\n",
        "plt.ylabel('ssd')\n",
        "plt.title('elbow method with one hot encoding fig 1.2')\n",
        "plt.show()"
      ],
      "execution_count": 17,
      "outputs": [
        {
          "output_type": "display_data",
          "data": {
            "image/png": "[encoded data removed]",
            "text/plain": [
              "<Figure size 432x432 with 1 Axes>"
            ]
          },
          "metadata": {
            "tags": [],
            "needs_background": "light"
          }
        },
        {
          "output_type": "display_data",
          "data": {
            "image/png": "[encoded data removed]",
            "text/plain": [
              "<Figure size 432x432 with 1 Axes>"
            ]
          },
          "metadata": {
            "tags": [],
            "needs_background": "light"
          }
        }
      ]
    },
    {
      "cell_type": "markdown",
      "metadata": {
        "id": "L7NKHgGZV1Cc",
        "colab_type": "text"
      },
      "source": [
        "**here we do Kmeans clustering with a dataframe which does not have one hot ecoding**"
      ]
    },
    {
      "cell_type": "code",
      "metadata": {
        "id": "0SfFA5x-jpSh",
        "colab_type": "code",
        "colab": {
          "base_uri": "https://localhost:8080/",
          "height": 50
        },
        "outputId": "b00b0861-da0c-4aea-d3e1-4b3391acc4b7"
      },
      "source": [
        "#[1, 0, 2, 2, 1, 0, 1, 1]\n",
        "km=KMeans(n_clusters=3, max_iter=300)\n",
        "km=km.fit(df)\n",
        "print('CLUSTERS FORMED ARE:-')\n",
        "km.labels_\n",
        "#here the distribution is done w.r.t to the jobs the person has rather than \n",
        "#the utmost people to give interviews"
      ],
      "execution_count": 18,
      "outputs": [
        {
          "output_type": "stream",
          "text": [
            "CLUSTERS FORMED ARE:-\n"
          ],
          "name": "stdout"
        },
        {
          "output_type": "execute_result",
          "data": {
            "text/plain": [
              "array([1, 0, 2, 2, 1, 0, 1, 1], dtype=int32)"
            ]
          },
          "metadata": {
            "tags": []
          },
          "execution_count": 18
        }
      ]
    },
    {
      "cell_type": "markdown",
      "metadata": {
        "id": "50sV0iRWWG2Y",
        "colab_type": "text"
      },
      "source": [
        "**here we do Kmeans clustering with a dataframe which  have one hot ecoding**"
      ]
    },
    {
      "cell_type": "code",
      "metadata": {
        "id": "sT7a-o3RVmK3",
        "colab_type": "code",
        "colab": {
          "base_uri": "https://localhost:8080/",
          "height": 50
        },
        "outputId": "260fbcd7-30fc-47ed-ed50-2a450d836ab6"
      },
      "source": [
        "#here we take 3 cluster \n",
        "km=KMeans(n_clusters=3, max_iter=300)\n",
        "km=km.fit(h)\n",
        "final=km.labels_\n",
        "print('CLUSTERS FORMED ARE:-')\n",
        "final"
      ],
      "execution_count": 19,
      "outputs": [
        {
          "output_type": "stream",
          "text": [
            "CLUSTERS FORMED ARE:-\n"
          ],
          "name": "stdout"
        },
        {
          "output_type": "execute_result",
          "data": {
            "text/plain": [
              "array([1, 0, 1, 1, 2, 0, 2, 1], dtype=int32)"
            ]
          },
          "metadata": {
            "tags": []
          },
          "execution_count": 19
        }
      ]
    },
    {
      "cell_type": "markdown",
      "metadata": {
        "id": "ty7kLjetv25v",
        "colab_type": "text"
      },
      "source": [
        "**clustering after scaling**"
      ]
    },
    {
      "cell_type": "code",
      "metadata": {
        "id": "ZTQoP6ocu2iV",
        "colab_type": "code",
        "colab": {
          "base_uri": "https://localhost:8080/",
          "height": 790
        },
        "outputId": "608fce82-93e5-43d1-f5f5-f19ad62e425a"
      },
      "source": [
        "scalar = MinMaxScaler()\n",
        "scaled_data = scalar.fit_transform(df)\n",
        "scaled_data\n",
        "ssd=[]\n",
        "K=range(1,9)\n",
        "for k in K:\n",
        "    km=KMeans(n_clusters=k,max_iter=1000,random_state=85)\n",
        "    km=km.fit(scaled_data)\n",
        "    ssd.append(km.inertia_)\n",
        "\n",
        "plt.figure(figsize=(6,6))\n",
        "plt.plot(K,ssd,'bx-')\n",
        "plt.xlabel(\"k\")\n",
        "plt.ylabel('ssd')\n",
        "plt.title('Elbow method fig 2.1')\n",
        "plt.show()\n",
        "\n",
        "scalar = MinMaxScaler()\n",
        "scaled_dat = scalar.fit_transform(h)\n",
        "scaled_dat\n",
        "ssd=[]\n",
        "K=range(1,9)\n",
        "for k in K:\n",
        "    km=KMeans(n_clusters=k,max_iter=1000,random_state=85)\n",
        "    km=km.fit(scaled_dat)\n",
        "    ssd.append(km.inertia_)\n",
        "\n",
        "plt.figure(figsize=(6,6))\n",
        "plt.plot(K,ssd,'bx-')\n",
        "plt.xlabel(\"k\")\n",
        "plt.ylabel('ssd')\n",
        "plt.title('Elbow method with one hot fig 2.2 ')\n",
        "plt.show()"
      ],
      "execution_count": 20,
      "outputs": [
        {
          "output_type": "display_data",
          "data": {
            "image/png": "[encoded data removed]",
            "text/plain": [
              "<Figure size 432x432 with 1 Axes>"
            ]
          },
          "metadata": {
            "tags": [],
            "needs_background": "light"
          }
        },
        {
          "output_type": "display_data",
          "data": {
            "image/png": "[encoded data removed]",
            "text/plain": [
              "<Figure size 432x432 with 1 Axes>"
            ]
          },
          "metadata": {
            "tags": [],
            "needs_background": "light"
          }
        }
      ]
    },
    {
      "cell_type": "markdown",
      "metadata": {
        "id": "ol_Mhhb7aCNK",
        "colab_type": "text"
      },
      "source": [
        "**clustering after scling the non one hot encoded data**"
      ]
    },
    {
      "cell_type": "code",
      "metadata": {
        "id": "_ZTt6rdZvEsC",
        "colab_type": "code",
        "colab": {
          "base_uri": "https://localhost:8080/",
          "height": 34
        },
        "outputId": "ef50bb56-dbe2-4c8d-8fd4-f5f76b15ca1e"
      },
      "source": [
        "#chosing 5 clusters\n",
        "km=KMeans(n_clusters=5,max_iter=1,random_state=85)\n",
        "km=km.fit(scaled_data)\n",
        "km.labels_"
      ],
      "execution_count": null,
      "outputs": [
        {
          "output_type": "execute_result",
          "data": {
            "text/plain": [
              "array([4, 3, 2, 2, 4, 1, 4, 0], dtype=int32)"
            ]
          },
          "metadata": {
            "tags": []
          },
          "execution_count": 21
        }
      ]
    },
    {
      "cell_type": "markdown",
      "metadata": {
        "id": "iHPcQclvYeg6",
        "colab_type": "text"
      },
      "source": [
        "## clustering after one hot encoding and scaling \n",
        "**this clustering is giving the best results as 4 and 1 being to give the interview and else not to given the interview**"
      ]
    },
    {
      "cell_type": "code",
      "metadata": {
        "id": "mVGwSOtOX5kP",
        "colab_type": "code",
        "colab": {
          "base_uri": "https://localhost:8080/",
          "height": 50
        },
        "outputId": "f458891d-f7ec-4a5b-e3eb-84c607c989ee"
      },
      "source": [
        "km=KMeans(n_clusters=5,max_iter=1,random_state=85)\n",
        "km=km.fit(scaled_dat)\n",
        "print('CLUSTERS FORMED ARE:-')\n",
        "fi=km.labels_\n",
        "fi"
      ],
      "execution_count": 22,
      "outputs": [
        {
          "output_type": "stream",
          "text": [
            "CLUSTERS FORMED ARE:-\n"
          ],
          "name": "stdout"
        },
        {
          "output_type": "execute_result",
          "data": {
            "text/plain": [
              "array([0, 4, 2, 2, 0, 1, 3, 0], dtype=int32)"
            ]
          },
          "metadata": {
            "tags": []
          },
          "execution_count": 22
        }
      ]
    },
    {
      "cell_type": "markdown",
      "metadata": {
        "id": "r2JP452TatVq",
        "colab_type": "text"
      },
      "source": [
        "**So people to give interview are:**"
      ]
    },
    {
      "cell_type": "code",
      "metadata": {
        "id": "ybBFkQwRadrc",
        "colab_type": "code",
        "colab": {
          "base_uri": "https://localhost:8080/",
          "height": 335
        },
        "outputId": "8dc1b3b3-f8eb-4d8a-d696-8dd0caccc188"
      },
      "source": [
        "data=pd.read_csv('/content/job.csv')\n",
        "data=data.iloc[:-2]\n",
        "inter=[]\n",
        "for i in range(len(data)):\n",
        "  if fi[i]==1:\n",
        "    inter.append(np.array(data.iloc[i]))\n",
        "for i in range(len(data)):\n",
        "  if fi[i]==4:\n",
        "    inter.append(np.array(data.iloc[i]))\n",
        "pd.DataFrame(np.array(inter))\n"
      ],
      "execution_count": 23,
      "outputs": [
        {
          "output_type": "execute_result",
          "data": {
            "text/html": [
              "<div>\n",
              "<style scoped>\n",
              "    .dataframe tbody tr th:only-of-type {\n",
              "        vertical-align: middle;\n",
              "    }\n",
              "\n",
              "    .dataframe tbody tr th {\n",
              "        vertical-align: top;\n",
              "    }\n",
              "\n",
              "    .dataframe thead th {\n",
              "        text-align: right;\n",
              "    }\n",
              "</style>\n",
              "<table border=\"1\" class=\"dataframe\">\n",
              "  <thead>\n",
              "    <tr style=\"text-align: right;\">\n",
              "      <th></th>\n",
              "      <th>0</th>\n",
              "      <th>1</th>\n",
              "      <th>2</th>\n",
              "      <th>3</th>\n",
              "      <th>4</th>\n",
              "      <th>5</th>\n",
              "      <th>6</th>\n",
              "      <th>7</th>\n",
              "      <th>8</th>\n",
              "      <th>9</th>\n",
              "      <th>10</th>\n",
              "      <th>11</th>\n",
              "      <th>12</th>\n",
              "      <th>13</th>\n",
              "      <th>14</th>\n",
              "      <th>15</th>\n",
              "      <th>16</th>\n",
              "      <th>17</th>\n",
              "      <th>18</th>\n",
              "      <th>19</th>\n",
              "      <th>20</th>\n",
              "    </tr>\n",
              "  </thead>\n",
              "  <tbody>\n",
              "    <tr>\n",
              "      <th>0</th>\n",
              "      <td>Timestamp(seconds=1594915515, nanoseconds=7355...</td>\n",
              "      <td>24</td>\n",
              "      <td>3w4OH4ITykUZEXLXYi2cz8UCPcx2</td>\n",
              "      <td>9000-12000</td>\n",
              "      <td>https://firebasestorage.googleapis.com/v0/b/fr...</td>\n",
              "      <td>Waiter</td>\n",
              "      <td>01-Feb</td>\n",
              "      <td>Pune,Mumbai, Hyderabad, Delhi</td>\n",
              "      <td>['A', 'P', 'W']</td>\n",
              "      <td>To serve dish, helps with cooking &amp; cleaning</td>\n",
              "      <td>01-08-2020</td>\n",
              "      <td>01-08-2020</td>\n",
              "      <td>open</td>\n",
              "      <td>10</td>\n",
              "      <td>Absolute Barbecue</td>\n",
              "      <td>23205670-c77e-11ea-9322-23abb90748ec</td>\n",
              "      <td>no</td>\n",
              "      <td>Proficient in Hindi,Marathi, 10th pass</td>\n",
              "      <td>Sc35yz2EI4qBl8CST2fX</td>\n",
              "      <td>NaN</td>\n",
              "      <td>NaN</td>\n",
              "    </tr>\n",
              "    <tr>\n",
              "      <th>1</th>\n",
              "      <td>Timestamp(seconds=1594915696, nanoseconds=8281...</td>\n",
              "      <td>12</td>\n",
              "      <td>3w4OH4ITykUZEXLXYi2cz8UCPcx2</td>\n",
              "      <td>8000-12000</td>\n",
              "      <td>https://firebasestorage.googleapis.com/v0/b/fr...</td>\n",
              "      <td>Kitchen Helper</td>\n",
              "      <td>0-3</td>\n",
              "      <td>Mumbai, Pune,Hyderabad, Delhi</td>\n",
              "      <td>['A', 'M', 'K']</td>\n",
              "      <td>Preparing &amp; cooking meals and helping the main...</td>\n",
              "      <td>01-08-2020</td>\n",
              "      <td>01-08-2020</td>\n",
              "      <td>open</td>\n",
              "      <td>10</td>\n",
              "      <td>Absolute Barbecue</td>\n",
              "      <td>8f10efc0-c77e-11ea-d1fb-bbad64001e7f</td>\n",
              "      <td>Experience of South Indian, Continental food</td>\n",
              "      <td>8th pass</td>\n",
              "      <td>8S5GyR2lGacUmTa1jsmv</td>\n",
              "      <td>NaN</td>\n",
              "      <td>NaN</td>\n",
              "    </tr>\n",
              "  </tbody>\n",
              "</table>\n",
              "</div>"
            ],
            "text/plain": [
              "                                                  0   1   ...   19   20\n",
              "0  Timestamp(seconds=1594915515, nanoseconds=7355...  24  ...  NaN  NaN\n",
              "1  Timestamp(seconds=1594915696, nanoseconds=8281...  12  ...  NaN  NaN\n",
              "\n",
              "[2 rows x 21 columns]"
            ]
          },
          "metadata": {
            "tags": []
          },
          "execution_count": 23
        }
      ]
    }
  ]
}